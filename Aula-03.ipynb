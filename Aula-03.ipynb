{
 "cells": [
  {
   "cell_type": "markdown",
   "id": "eed34c0e",
   "metadata": {},
   "source": [
    "# Aula 3"
   ]
  },
  {
   "cell_type": "markdown",
   "id": "bf881a15",
   "metadata": {},
   "source": [
    "## Revisão\n",
    "\n",
    "\n",
    "\n",
    "### Operadores numéricos e funções elementares\n"
   ]
  },
  {
   "cell_type": "code",
   "execution_count": null,
   "id": "1eace9a0",
   "metadata": {},
   "outputs": [],
   "source": [
    "1+1, 2*3, 3^2, 3/2, 2\\3, 3÷2, 3 % 2"
   ]
  },
  {
   "cell_type": "markdown",
   "id": "3eeaca8b",
   "metadata": {},
   "source": [
    "#### Operadores lógicos"
   ]
  },
  {
   "cell_type": "code",
   "execution_count": null,
   "id": "98f96f87",
   "metadata": {},
   "outputs": [],
   "source": [
    "1==1, 1==2, 1!=1, 1!=2"
   ]
  },
  {
   "cell_type": "code",
   "execution_count": null,
   "id": "39dd5823",
   "metadata": {},
   "outputs": [],
   "source": [
    "true == !false"
   ]
  },
  {
   "cell_type": "code",
   "execution_count": null,
   "id": "762e140e",
   "metadata": {},
   "outputs": [],
   "source": [
    "true && true, true && false, false && true, false && false"
   ]
  },
  {
   "cell_type": "code",
   "execution_count": null,
   "id": "449b85ca",
   "metadata": {},
   "outputs": [],
   "source": [
    "true || true, true || false, false || true, false || false"
   ]
  },
  {
   "cell_type": "code",
   "execution_count": null,
   "id": "de8a7f59",
   "metadata": {},
   "outputs": [],
   "source": [
    "true ⊻ true"
   ]
  },
  {
   "cell_type": "markdown",
   "id": "e92b8cc5",
   "metadata": {},
   "source": [
    "##### Curto circuito"
   ]
  },
  {
   "cell_type": "code",
   "execution_count": null,
   "id": "559d6439",
   "metadata": {},
   "outputs": [],
   "source": [
    "false && println(\"FUNCIONOU\")"
   ]
  },
  {
   "cell_type": "code",
   "execution_count": null,
   "id": "5315d8b8",
   "metadata": {},
   "outputs": [],
   "source": [
    "false && println(\"FUNCIONOU\")"
   ]
  },
  {
   "cell_type": "code",
   "execution_count": null,
   "id": "6f7e2d15",
   "metadata": {},
   "outputs": [],
   "source": [
    "true || println(\"FUNCIONOU\")"
   ]
  },
  {
   "cell_type": "code",
   "execution_count": null,
   "id": "060ae2ef",
   "metadata": {},
   "outputs": [],
   "source": [
    "false && println(\"FUNCIONOU\")"
   ]
  },
  {
   "cell_type": "markdown",
   "id": "35a53439",
   "metadata": {},
   "source": [
    "##### Encadear comparações"
   ]
  },
  {
   "cell_type": "code",
   "execution_count": null,
   "id": "a2dd2e17",
   "metadata": {},
   "outputs": [],
   "source": [
    " 1 < 2 <= 2 < 3 == 3 > 2 >= 1 == 1 < 3 != 5"
   ]
  },
  {
   "cell_type": "markdown",
   "id": "ed8c4728",
   "metadata": {},
   "source": [
    "#### Operadores com ponto"
   ]
  },
  {
   "cell_type": "code",
   "execution_count": null,
   "id": "eb43b675",
   "metadata": {},
   "outputs": [],
   "source": [
    "[1,2,3] + [4,5,6]"
   ]
  },
  {
   "cell_type": "code",
   "execution_count": null,
   "id": "dfe6fb97",
   "metadata": {},
   "outputs": [],
   "source": [
    "[1,2,3] .* [4,5,6]"
   ]
  },
  {
   "cell_type": "markdown",
   "id": "cd89052b",
   "metadata": {},
   "source": [
    "#### Funções elementares"
   ]
  },
  {
   "cell_type": "code",
   "execution_count": null,
   "id": "4742c9ce",
   "metadata": {},
   "outputs": [],
   "source": [
    "sin(π), sind(180), sinpi(1), cos(1), tan(1), atan(1)"
   ]
  },
  {
   "cell_type": "code",
   "execution_count": null,
   "id": "5ca0e455",
   "metadata": {},
   "outputs": [],
   "source": [
    "round(1.2), round(Int,1.2)"
   ]
  },
  {
   "cell_type": "markdown",
   "id": "71299b19",
   "metadata": {},
   "source": [
    "### Números complexos"
   ]
  },
  {
   "cell_type": "code",
   "execution_count": null,
   "id": "8e08e225",
   "metadata": {},
   "outputs": [],
   "source": [
    "sqrt(-1+0im)"
   ]
  },
  {
   "cell_type": "code",
   "execution_count": null,
   "id": "5844da5b",
   "metadata": {},
   "outputs": [],
   "source": [
    "complex(1,2), 1+2im, typeof(1+2im), 1.0+2.0im, typeof(1.0+2.0im)"
   ]
  },
  {
   "cell_type": "code",
   "execution_count": null,
   "id": "62d9d9d2",
   "metadata": {},
   "outputs": [],
   "source": [
    "x = 1.0 + 2im; y = 3.0 + im\n",
    "x*y, x/y, x^y, sqrt(x)"
   ]
  },
  {
   "cell_type": "code",
   "execution_count": null,
   "id": "47760b83",
   "metadata": {},
   "outputs": [],
   "source": [
    "real(x), imag(x), angle(x)"
   ]
  },
  {
   "cell_type": "markdown",
   "id": "7499e7a2",
   "metadata": {},
   "source": [
    "### Números racionais"
   ]
  },
  {
   "cell_type": "code",
   "execution_count": null,
   "id": "4f77e5f8",
   "metadata": {},
   "outputs": [],
   "source": [
    "1/2, 1//2, typeof(1//2)"
   ]
  },
  {
   "cell_type": "markdown",
   "id": "2beab914",
   "metadata": {},
   "source": [
    "### Strings"
   ]
  },
  {
   "cell_type": "markdown",
   "id": "98651864",
   "metadata": {},
   "source": [
    "#### Caracteres: Unicode"
   ]
  },
  {
   "cell_type": "code",
   "execution_count": null,
   "id": "9e6d7d63",
   "metadata": {},
   "outputs": [],
   "source": [
    "'a'"
   ]
  },
  {
   "cell_type": "code",
   "execution_count": null,
   "id": "1a0c5100",
   "metadata": {},
   "outputs": [],
   "source": [
    "'a', typeof('a'), Int('a'), Char(97)"
   ]
  },
  {
   "cell_type": "markdown",
   "id": "26b9536a",
   "metadata": {},
   "source": [
    "#### Strings"
   ]
  },
  {
   "cell_type": "code",
   "execution_count": null,
   "id": "9544d657",
   "metadata": {},
   "outputs": [],
   "source": [
    "s = \"Hello World!\""
   ]
  },
  {
   "cell_type": "code",
   "execution_count": null,
   "id": "623cd910",
   "metadata": {},
   "outputs": [],
   "source": [
    "sb = \"\"\"Hello World!\"\"\""
   ]
  },
  {
   "cell_type": "code",
   "execution_count": null,
   "id": "796aa15e",
   "metadata": {},
   "outputs": [],
   "source": [
    "typeof(s)"
   ]
  },
  {
   "cell_type": "code",
   "execution_count": null,
   "id": "32842817",
   "metadata": {},
   "outputs": [],
   "source": [
    "s[1], s[2], s[3], s[end-1], s[end], s[begin]"
   ]
  },
  {
   "cell_type": "code",
   "execution_count": null,
   "id": "aafbb7f1",
   "metadata": {},
   "outputs": [],
   "source": [
    "s[3:7]"
   ]
  },
  {
   "cell_type": "code",
   "execution_count": null,
   "id": "4b18f90c",
   "metadata": {},
   "outputs": [],
   "source": [
    "ss = SubString(s, 3, 7); typeof(ss)"
   ]
  },
  {
   "cell_type": "code",
   "execution_count": null,
   "id": "34ffd781",
   "metadata": {},
   "outputs": [],
   "source": [
    "[c for c in s]"
   ]
  },
  {
   "cell_type": "code",
   "execution_count": null,
   "id": "af020a69",
   "metadata": {},
   "outputs": [],
   "source": [
    "acentos = \"áàäãâ\""
   ]
  },
  {
   "cell_type": "code",
   "execution_count": null,
   "id": "f88e6c7a",
   "metadata": {},
   "outputs": [],
   "source": [
    "length(acentos), lastindex(acentos)"
   ]
  },
  {
   "cell_type": "code",
   "execution_count": null,
   "id": "9b5e3fc7",
   "metadata": {},
   "outputs": [],
   "source": [
    "acentos[3]"
   ]
  },
  {
   "cell_type": "code",
   "execution_count": null,
   "id": "b3ece128",
   "metadata": {},
   "outputs": [],
   "source": [
    "[c for c in acentos]"
   ]
  },
  {
   "cell_type": "code",
   "execution_count": null,
   "id": "6b3e5943",
   "metadata": {},
   "outputs": [],
   "source": [
    "acentos[end]"
   ]
  },
  {
   "cell_type": "markdown",
   "id": "4c2f9cb8",
   "metadata": {},
   "source": [
    "#### Concatenação einterpolação"
   ]
  },
  {
   "cell_type": "code",
   "execution_count": null,
   "id": "d86f4136",
   "metadata": {},
   "outputs": [],
   "source": [
    "s1 = \"Hello\"; s2 = \"World\"; ss = s1*s2"
   ]
  },
  {
   "cell_type": "code",
   "execution_count": null,
   "id": "307ad1cd",
   "metadata": {},
   "outputs": [],
   "source": [
    "string(s1, \" \", s2, \"!\")"
   ]
  },
  {
   "cell_type": "code",
   "execution_count": null,
   "id": "cd95efea",
   "metadata": {},
   "outputs": [],
   "source": [
    "\"$s1 $s2 !\", \"$s1 $(s2)!\""
   ]
  },
  {
   "cell_type": "code",
   "execution_count": null,
   "id": "28e18bfc",
   "metadata": {},
   "outputs": [],
   "source": [
    "\"$s1\", \"\\$s1\", raw\"$s1\""
   ]
  },
  {
   "cell_type": "code",
   "execution_count": null,
   "id": "9632ee07",
   "metadata": {},
   "outputs": [],
   "source": [
    "x = [1,2,3]\n",
    "\"Soma dos elementos do vetor $x vale $(sum(x))\""
   ]
  },
  {
   "cell_type": "markdown",
   "id": "e31d1faf",
   "metadata": {},
   "source": [
    "#### Busca"
   ]
  },
  {
   "cell_type": "code",
   "execution_count": null,
   "id": "ccdaadab",
   "metadata": {},
   "outputs": [],
   "source": [
    "occursin(\"ca\", \"abacate\")"
   ]
  },
  {
   "cell_type": "code",
   "execution_count": null,
   "id": "d30000b0",
   "metadata": {},
   "outputs": [],
   "source": [
    "findfirst(\"ca\", \"abacate\")"
   ]
  },
  {
   "cell_type": "code",
   "execution_count": null,
   "id": "a136a73b",
   "metadata": {},
   "outputs": [],
   "source": [
    "findfirst(\"a\", \"abacate\"), findnext(\"a\", \"abacate\", 2), findnext(\"a\", \"abacate\", 4)"
   ]
  },
  {
   "cell_type": "code",
   "execution_count": null,
   "id": "1e64c1b5",
   "metadata": {},
   "outputs": [],
   "source": [
    "occursin(r\"-[0-9]+\\.dat\", \"ponto-1234001.dat\")"
   ]
  },
  {
   "cell_type": "markdown",
   "id": "94a407f8",
   "metadata": {},
   "source": [
    "## Funções\n",
    "\n",
    " * Primeira abstração que discutimos: variáveis\n",
    " * Funções: abstraem um conjunto de operaçoes"
   ]
  },
  {
   "cell_type": "code",
   "execution_count": null,
   "id": "2240e68a",
   "metadata": {},
   "outputs": [],
   "source": [
    "function minhafun(x, y)\n",
    "    x + 2y\n",
    "end"
   ]
  },
  {
   "cell_type": "code",
   "execution_count": null,
   "id": "f4d85bcd",
   "metadata": {},
   "outputs": [],
   "source": [
    "x = 1; y = 2\n",
    "minhafun(x,y)"
   ]
  },
  {
   "cell_type": "code",
   "execution_count": null,
   "id": "6be7cc3f",
   "metadata": {},
   "outputs": [],
   "source": [
    "minhafun(y,x)"
   ]
  },
  {
   "cell_type": "code",
   "execution_count": null,
   "id": "62c36b44",
   "metadata": {},
   "outputs": [],
   "source": [
    "a = 1; b=10; minhafun(b, a)"
   ]
  },
  {
   "cell_type": "code",
   "execution_count": null,
   "id": "2dcd3996",
   "metadata": {},
   "outputs": [],
   "source": [
    "minhafun(x,y) = x + 2y"
   ]
  },
  {
   "cell_type": "code",
   "execution_count": null,
   "id": "9d6cce5f",
   "metadata": {},
   "outputs": [],
   "source": [
    "minhafun(1,100)"
   ]
  },
  {
   "cell_type": "code",
   "execution_count": null,
   "id": "d089f4e3",
   "metadata": {},
   "outputs": [],
   "source": [
    "function minhafun2(x,y)\n",
    "    t1 = x\n",
    "    t2 = 2*y\n",
    "    t1 + t2\n",
    "end"
   ]
  },
  {
   "cell_type": "code",
   "execution_count": null,
   "id": "dcac8cf5",
   "metadata": {},
   "outputs": [],
   "source": [
    "minhafun2(1,2)"
   ]
  },
  {
   "cell_type": "markdown",
   "id": "c6193317",
   "metadata": {},
   "source": [
    "### Return"
   ]
  },
  {
   "cell_type": "code",
   "execution_count": null,
   "id": "5bd82ac6",
   "metadata": {},
   "outputs": [],
   "source": [
    "function minhafun3(x,y)\n",
    "    t1 = x\n",
    "    t2 = 2*y\n",
    "    return t1 + t2\n",
    "end    "
   ]
  },
  {
   "cell_type": "code",
   "execution_count": null,
   "id": "62fd6d58",
   "metadata": {},
   "outputs": [],
   "source": [
    "dobro(x) = 2x"
   ]
  },
  {
   "cell_type": "code",
   "execution_count": null,
   "id": "1ce380ad",
   "metadata": {},
   "outputs": [],
   "source": [
    "dobro(1//4)"
   ]
  },
  {
   "cell_type": "code",
   "execution_count": null,
   "id": "90004743",
   "metadata": {},
   "outputs": [],
   "source": [
    "dobroint(x::Integer) = 2x"
   ]
  },
  {
   "cell_type": "code",
   "execution_count": null,
   "id": "1fb0c0bf",
   "metadata": {},
   "outputs": [],
   "source": [
    "dobroint(UInt8(1))"
   ]
  },
  {
   "cell_type": "markdown",
   "id": "d0c3cb44",
   "metadata": {},
   "source": [
    "### Tipo de retorno\n"
   ]
  },
  {
   "cell_type": "code",
   "execution_count": null,
   "id": "da0e966c",
   "metadata": {},
   "outputs": [],
   "source": [
    "function g(x,y)::UInt8\n",
    "    return x + 2y\n",
    "end\n"
   ]
  },
  {
   "cell_type": "code",
   "execution_count": null,
   "id": "dca00552",
   "metadata": {},
   "outputs": [],
   "source": [
    "g(1,2), typeof(g(1,2))"
   ]
  },
  {
   "cell_type": "markdown",
   "id": "24128a5e",
   "metadata": {},
   "source": [
    "### Operadores são funções"
   ]
  },
  {
   "cell_type": "code",
   "execution_count": null,
   "id": "85226cd9",
   "metadata": {},
   "outputs": [],
   "source": [
    "1+2+3, +(1,2,3)"
   ]
  },
  {
   "cell_type": "markdown",
   "id": "765ca8fd",
   "metadata": {},
   "source": [
    "### Operadores com nomes especiais"
   ]
  },
  {
   "cell_type": "code",
   "execution_count": null,
   "id": "dd705ab0",
   "metadata": {},
   "outputs": [],
   "source": [
    "[1 2 3]"
   ]
  },
  {
   "cell_type": "code",
   "execution_count": null,
   "id": "a62d6b5c",
   "metadata": {},
   "outputs": [],
   "source": [
    "[1 2 3], hcat(1,2,3)"
   ]
  },
  {
   "cell_type": "code",
   "execution_count": null,
   "id": "8e5a29d0",
   "metadata": {},
   "outputs": [],
   "source": [
    "[1;2;3]"
   ]
  },
  {
   "cell_type": "code",
   "execution_count": null,
   "id": "51c97f4e",
   "metadata": {},
   "outputs": [],
   "source": [
    "[1;2;3], vcat(1,2,3)"
   ]
  },
  {
   "cell_type": "code",
   "execution_count": null,
   "id": "b968ca87",
   "metadata": {},
   "outputs": [],
   "source": [
    "[1 2; 3 4]"
   ]
  },
  {
   "cell_type": "code",
   "execution_count": null,
   "id": "b5c7c3cd",
   "metadata": {},
   "outputs": [],
   "source": [
    "hvcat((2,2), 1, 2, 3, 4)"
   ]
  },
  {
   "cell_type": "code",
   "execution_count": null,
   "id": "026d9609",
   "metadata": {},
   "outputs": [],
   "source": [
    "A = [1, 2, 3, 4]"
   ]
  },
  {
   "cell_type": "code",
   "execution_count": null,
   "id": "0bd4026f",
   "metadata": {},
   "outputs": [],
   "source": [
    "A[1], getindex(A, 1)"
   ]
  },
  {
   "cell_type": "code",
   "execution_count": null,
   "id": "d9bd0a54",
   "metadata": {},
   "outputs": [],
   "source": [
    "A[1] = 999"
   ]
  },
  {
   "cell_type": "code",
   "execution_count": null,
   "id": "5d797107",
   "metadata": {},
   "outputs": [],
   "source": [
    "A"
   ]
  },
  {
   "cell_type": "code",
   "execution_count": null,
   "id": "c097dd09",
   "metadata": {},
   "outputs": [],
   "source": [
    "setindex!(A, -123, 1)"
   ]
  },
  {
   "cell_type": "code",
   "execution_count": null,
   "id": "781ecbd9",
   "metadata": {},
   "outputs": [],
   "source": [
    "A"
   ]
  },
  {
   "cell_type": "markdown",
   "id": "873aba62",
   "metadata": {},
   "source": [
    "### Funções anônimas\n"
   ]
  },
  {
   "cell_type": "code",
   "execution_count": null,
   "id": "a2006824",
   "metadata": {},
   "outputs": [],
   "source": [
    "f = x -> x^2 + 2x + 1"
   ]
  },
  {
   "cell_type": "code",
   "execution_count": null,
   "id": "a3f3246d",
   "metadata": {},
   "outputs": [],
   "source": [
    "h = function(x)\n",
    "    x^2 + 2x + 1\n",
    "end"
   ]
  },
  {
   "cell_type": "code",
   "execution_count": null,
   "id": "fd9fadae",
   "metadata": {},
   "outputs": [],
   "source": [
    "f(1.1), h(1.1)"
   ]
  },
  {
   "cell_type": "code",
   "execution_count": null,
   "id": "0608c025",
   "metadata": {},
   "outputs": [],
   "source": [
    "map(round, [1.1, 1.12, 0.99, 0.98])"
   ]
  },
  {
   "cell_type": "code",
   "execution_count": null,
   "id": "6d157df8",
   "metadata": {},
   "outputs": [],
   "source": [
    "map(x->round(Int,x), [1.1, 1.12, 0.99, 0.98])"
   ]
  },
  {
   "cell_type": "code",
   "execution_count": null,
   "id": "368e8736",
   "metadata": {},
   "outputs": [],
   "source": [
    "map(cos, 1:10)"
   ]
  },
  {
   "cell_type": "code",
   "execution_count": null,
   "id": "99ff5675",
   "metadata": {},
   "outputs": [],
   "source": [
    "map(1:10) do x\n",
    "    x^2\n",
    "end\n"
   ]
  },
  {
   "cell_type": "code",
   "execution_count": null,
   "id": "568715ba",
   "metadata": {},
   "outputs": [],
   "source": [
    "map(x->x^2, 1:10)"
   ]
  },
  {
   "cell_type": "markdown",
   "id": "cc16a6ff",
   "metadata": {},
   "source": [
    "### Tuplas\n",
    "\n",
    "Usamos bastante acima!!!"
   ]
  },
  {
   "cell_type": "code",
   "execution_count": null,
   "id": "320b0519",
   "metadata": {},
   "outputs": [],
   "source": [
    "x = (1,1.0, \"IPT\")"
   ]
  },
  {
   "cell_type": "code",
   "execution_count": null,
   "id": "7ad5c3d0",
   "metadata": {},
   "outputs": [],
   "source": [
    "typeof(x)"
   ]
  },
  {
   "cell_type": "code",
   "execution_count": null,
   "id": "5960086f",
   "metadata": {},
   "outputs": [],
   "source": [
    "a,b,c = x\n"
   ]
  },
  {
   "cell_type": "code",
   "execution_count": null,
   "id": "a3ddbd13",
   "metadata": {},
   "outputs": [],
   "source": [
    "c"
   ]
  },
  {
   "cell_type": "code",
   "execution_count": null,
   "id": "43b5d4a9",
   "metadata": {},
   "outputs": [],
   "source": [
    "ipt = (rua=\"Av. Professor Almeida Prado\", número=532, sigla=:IPT)"
   ]
  },
  {
   "cell_type": "code",
   "execution_count": null,
   "id": "65f2a323",
   "metadata": {},
   "outputs": [],
   "source": [
    "typeof(ipt)"
   ]
  },
  {
   "cell_type": "code",
   "execution_count": null,
   "id": "0a68aa28",
   "metadata": {},
   "outputs": [],
   "source": [
    "(a,b,c) = (1,2,3)"
   ]
  },
  {
   "cell_type": "code",
   "execution_count": null,
   "id": "059ba848",
   "metadata": {},
   "outputs": [],
   "source": [
    "somamult(x,y) = x+y, x*y"
   ]
  },
  {
   "cell_type": "code",
   "execution_count": null,
   "id": "6e83bec4",
   "metadata": {},
   "outputs": [],
   "source": [
    "x = somamult(1.0,2)"
   ]
  },
  {
   "cell_type": "code",
   "execution_count": null,
   "id": "7dcfd970",
   "metadata": {},
   "outputs": [],
   "source": [
    "typeof(x)"
   ]
  },
  {
   "cell_type": "code",
   "execution_count": null,
   "id": "dbce2ee8",
   "metadata": {},
   "outputs": [],
   "source": [
    "s,m = somamult(1,2)"
   ]
  },
  {
   "cell_type": "code",
   "execution_count": null,
   "id": "42e84e78",
   "metadata": {},
   "outputs": [],
   "source": [
    "m"
   ]
  },
  {
   "cell_type": "markdown",
   "id": "56af8dc3",
   "metadata": {},
   "source": [
    "### Funções com argumentos opcionais\n"
   ]
  },
  {
   "cell_type": "code",
   "execution_count": null,
   "id": "2f56306c",
   "metadata": {},
   "outputs": [],
   "source": [
    "somanum(x, num=1) = x + num"
   ]
  },
  {
   "cell_type": "code",
   "execution_count": null,
   "id": "ec8e23b4",
   "metadata": {},
   "outputs": [],
   "source": [
    "somanum(10, 100)"
   ]
  },
  {
   "cell_type": "code",
   "execution_count": null,
   "id": "fa0f8ee3",
   "metadata": {},
   "outputs": [],
   "source": [
    "somanum1(x) = x + 1\n",
    "somanum2(x,mum) = x+num"
   ]
  },
  {
   "cell_type": "markdown",
   "id": "b32a3f57",
   "metadata": {},
   "source": [
    "### Funções com número variáveis de argumentos"
   ]
  },
  {
   "cell_type": "code",
   "execution_count": null,
   "id": "ca4f8817",
   "metadata": {},
   "outputs": [],
   "source": [
    "minhafun5(a,lst...) = (a, lst)"
   ]
  },
  {
   "cell_type": "code",
   "execution_count": null,
   "id": "1057082a",
   "metadata": {},
   "outputs": [],
   "source": [
    "@time minhafun5(1,2,3,4,5)"
   ]
  },
  {
   "cell_type": "markdown",
   "id": "b2dd48c1",
   "metadata": {},
   "source": [
    "### Keyword arguments "
   ]
  },
  {
   "cell_type": "code",
   "execution_count": null,
   "id": "e3654e35",
   "metadata": {},
   "outputs": [],
   "source": [
    "function minhafun6(;x=1)\n",
    "    println(x)\n",
    "end"
   ]
  },
  {
   "cell_type": "code",
   "execution_count": null,
   "id": "94b27482",
   "metadata": {},
   "outputs": [],
   "source": [
    "minhafun6()"
   ]
  },
  {
   "cell_type": "markdown",
   "id": "f6bcecd2",
   "metadata": {},
   "source": [
    "### Sintaxe com ponto"
   ]
  },
  {
   "cell_type": "code",
   "execution_count": null,
   "id": "6176124b",
   "metadata": {},
   "outputs": [],
   "source": [
    "soma1(x) = x + 1"
   ]
  },
  {
   "cell_type": "code",
   "execution_count": null,
   "id": "fe344f01",
   "metadata": {},
   "outputs": [],
   "source": [
    "soma1(10.1)"
   ]
  },
  {
   "cell_type": "code",
   "execution_count": null,
   "id": "024be1fb",
   "metadata": {},
   "outputs": [],
   "source": [
    "soma1.([1,2,3])"
   ]
  },
  {
   "cell_type": "code",
   "execution_count": null,
   "id": "f4b40b3d",
   "metadata": {},
   "outputs": [],
   "source": [
    "x = 1:10\n",
    "@. x^2 + x*cos(x) / x"
   ]
  },
  {
   "cell_type": "code",
   "execution_count": null,
   "id": "e5fb30ec",
   "metadata": {},
   "outputs": [],
   "source": [
    "x.^2 + x.*cos.(x) ./ x"
   ]
  },
  {
   "cell_type": "markdown",
   "id": "e905b00c",
   "metadata": {},
   "source": [
    "## CONTROLE DE FLUXO\n",
    "\n",
    "### Expressões compostas"
   ]
  },
  {
   "cell_type": "code",
   "execution_count": null,
   "id": "5234b7e1",
   "metadata": {},
   "outputs": [],
   "source": [
    " z = begin\n",
    "    x = 1\n",
    "    y = 2\n",
    "    x+y\n",
    "end"
   ]
  },
  {
   "cell_type": "code",
   "execution_count": null,
   "id": "d244ef95",
   "metadata": {},
   "outputs": [],
   "source": [
    "z"
   ]
  },
  {
   "cell_type": "code",
   "execution_count": null,
   "id": "6c120b77",
   "metadata": {},
   "outputs": [],
   "source": [
    "z = (x=10; y=20; x+y)"
   ]
  },
  {
   "cell_type": "markdown",
   "id": "6120beed",
   "metadata": {},
   "source": [
    "### Condicionais"
   ]
  },
  {
   "cell_type": "code",
   "execution_count": null,
   "id": "b14f4afb",
   "metadata": {},
   "outputs": [],
   "source": [
    "x = 2\n",
    "y = 2"
   ]
  },
  {
   "cell_type": "code",
   "execution_count": null,
   "id": "c78a9d3c",
   "metadata": {},
   "outputs": [],
   "source": [
    "vvv = if x < y\n",
    "    println(\"x menor que y\")\n",
    "elseif x > y\n",
    "    println(\"x maior que y\")\n",
    "else\n",
    "    println(\"x igual a y\")\n",
    "end"
   ]
  },
  {
   "cell_type": "code",
   "execution_count": null,
   "id": "9fca3c2f",
   "metadata": {},
   "outputs": [],
   "source": [
    "typeof(vvv)"
   ]
  },
  {
   "cell_type": "code",
   "execution_count": null,
   "id": "7c529d08",
   "metadata": {},
   "outputs": [],
   "source": [
    "# Também é uma expressão"
   ]
  },
  {
   "cell_type": "code",
   "execution_count": null,
   "id": "efa99a98",
   "metadata": {},
   "outputs": [],
   "source": [
    "meumin(x,y) = if x <= y x else y end"
   ]
  },
  {
   "cell_type": "code",
   "execution_count": null,
   "id": "80c07e3a",
   "metadata": {},
   "outputs": [],
   "source": [
    "meumin(2,1)"
   ]
  },
  {
   "cell_type": "markdown",
   "id": "12ecae9d",
   "metadata": {},
   "source": [
    "### Operador ternário"
   ]
  },
  {
   "cell_type": "code",
   "execution_count": null,
   "id": "b65b037d",
   "metadata": {},
   "outputs": [],
   "source": [
    "x = 1; y = 2\n",
    "x ≤ y ? x : y"
   ]
  },
  {
   "cell_type": "markdown",
   "id": "2e9407b3",
   "metadata": {},
   "source": [
    "### Curto circuito"
   ]
  },
  {
   "cell_type": "code",
   "execution_count": null,
   "id": "f1e09061",
   "metadata": {},
   "outputs": [],
   "source": [
    "x = 3; y = 2\n",
    "x ≤ y && error(\"x deve ser maior que y!\")"
   ]
  },
  {
   "cell_type": "markdown",
   "id": "e83b500e",
   "metadata": {},
   "source": [
    "### Repetição\n",
    "\n"
   ]
  },
  {
   "cell_type": "code",
   "execution_count": null,
   "id": "d0a7dfcb",
   "metadata": {},
   "outputs": [],
   "source": [
    "i = 1\n",
    "while i <= 5\n",
    "    println(i)\n",
    "    i += 1\n",
    "end"
   ]
  },
  {
   "cell_type": "code",
   "execution_count": null,
   "id": "6eb94a76",
   "metadata": {},
   "outputs": [],
   "source": [
    "for i in 1:5\n",
    "    println(i)\n",
    "end"
   ]
  },
  {
   "cell_type": "code",
   "execution_count": null,
   "id": "bf111ada",
   "metadata": {},
   "outputs": [],
   "source": [
    "for i in [1,3,5]\n",
    "    println(i)\n",
    "end"
   ]
  },
  {
   "cell_type": "code",
   "execution_count": null,
   "id": "bc22c1be",
   "metadata": {},
   "outputs": [],
   "source": [
    "for nomes in [\"João\", \"Maria\", \"Daniel\"]\n",
    "    println(nomes)\n",
    "end"
   ]
  },
  {
   "cell_type": "code",
   "execution_count": null,
   "id": "81961aa4",
   "metadata": {},
   "outputs": [],
   "source": [
    "i = 1\n",
    "while true\n",
    "    println(i)\n",
    "    if i >= 10\n",
    "        break\n",
    "    end\n",
    "    i += 1\n",
    "end\n",
    "    "
   ]
  },
  {
   "cell_type": "code",
   "execution_count": null,
   "id": "e0042280",
   "metadata": {},
   "outputs": [],
   "source": []
  },
  {
   "cell_type": "markdown",
   "id": "8caaef38",
   "metadata": {},
   "source": [
    "### Exceções\n"
   ]
  },
  {
   "cell_type": "code",
   "execution_count": null,
   "id": "7004f136",
   "metadata": {},
   "outputs": [],
   "source": [
    "sqrt(-1)"
   ]
  },
  {
   "cell_type": "code",
   "execution_count": null,
   "id": "bcd059b2",
   "metadata": {},
   "outputs": [],
   "source": [
    "minhafun7(x) = x > 10 ? x+5 : throw(DomainError(x, \" muito pequeno\"))"
   ]
  },
  {
   "cell_type": "code",
   "execution_count": null,
   "id": "973da6e1",
   "metadata": {},
   "outputs": [],
   "source": [
    "minhafun7(5)"
   ]
  },
  {
   "cell_type": "code",
   "execution_count": null,
   "id": "44b82e01",
   "metadata": {},
   "outputs": [],
   "source": [
    "a = 123\n",
    "try\n",
    "    minhafun7(a)\n",
    "    #error(\"Deu pau\")\n",
    "catch e\n",
    "    if isa(e, DomainError)\n",
    "        println(\"Erro de domínio\")\n",
    "    else\n",
    "        println(\"Outro tipo de erro\")\n",
    "    end\n",
    "\n",
    "finally\n",
    "    print(\"VAMOS LIMPAR A BESTEIRA\")\n",
    "end\n",
    "    \n",
    "    "
   ]
  },
  {
   "cell_type": "markdown",
   "id": "5bb3f2d0",
   "metadata": {},
   "source": [
    "## Escopo de variáveis"
   ]
  },
  {
   "cell_type": "code",
   "execution_count": null,
   "id": "52efad9c",
   "metadata": {},
   "outputs": [],
   "source": []
  }
 ],
 "metadata": {
  "kernelspec": {
   "display_name": "Julia 1.7.0",
   "language": "julia",
   "name": "julia-1.7"
  },
  "language_info": {
   "file_extension": ".jl",
   "mimetype": "application/julia",
   "name": "julia",
   "version": "1.7.0"
  }
 },
 "nbformat": 4,
 "nbformat_minor": 5
}
